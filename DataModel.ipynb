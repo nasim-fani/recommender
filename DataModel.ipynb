{
 "cells": [
  {
   "cell_type": "code",
   "execution_count": 4,
   "metadata": {},
   "outputs": [],
   "source": [
    "from collections import defaultdict\n",
    "from surprise import Dataset, SVD, Reader\n",
    "from surprise.dataset import DatasetAutoFolds\n",
    "from surprise.model_selection import train_test_split, LeaveOneOut\n",
    "from surprise import KNNBaseline"
   ]
  },
  {
   "cell_type": "code",
   "execution_count": 6,
   "metadata": {},
   "outputs": [],
   "source": [
    "class BookData(DatasetAutoFolds):\n",
    "    def __init__(self, ratings, books, users):\n",
    "        self.ratings = ratings\n",
    "        self.books = books\n",
    "        self.users = users\n",
    "#         self.reader = reader = Reader(line_format='user item rating', rating_scale=(1, 10))\n",
    "#         self.raw_ratings = [(uid, iid, r, None) for (uid, iid, r) in \n",
    "#                             zip(ratings['userId'], ratings['ISBN'], ratings['bookRating'])]"
   ]
  },
  {
   "cell_type": "code",
   "execution_count": null,
   "metadata": {},
   "outputs": [],
   "source": []
  }
 ],
 "metadata": {
  "kernelspec": {
   "display_name": "Python 3",
   "language": "python",
   "name": "python3"
  },
  "language_info": {
   "codemirror_mode": {
    "name": "ipython",
    "version": 3
   },
   "file_extension": ".py",
   "mimetype": "text/x-python",
   "name": "python",
   "nbconvert_exporter": "python",
   "pygments_lexer": "ipython3",
   "version": "3.8.2"
  }
 },
 "nbformat": 4,
 "nbformat_minor": 2
}
